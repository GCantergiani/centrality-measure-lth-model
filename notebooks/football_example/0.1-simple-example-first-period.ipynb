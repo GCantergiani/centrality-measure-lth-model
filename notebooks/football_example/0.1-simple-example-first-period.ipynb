{
 "cells": [
  {
   "cell_type": "code",
   "execution_count": 4,
   "metadata": {
    "collapsed": true
   },
   "outputs": [],
   "source": [
    "%matplotlib inline \n",
    "\n",
    "import networkx as nx\n",
    "import pandas as pd\n",
    "import numpy as np\n",
    "import matplotlib.pyplot as plt"
   ]
  },
  {
   "cell_type": "code",
   "execution_count": 5,
   "metadata": {
    "collapsed": false
   },
   "outputs": [
    {
     "data": {
      "text/html": [
       "<div>\n",
       "<table border=\"1\" class=\"dataframe\">\n",
       "  <thead>\n",
       "    <tr style=\"text-align: right;\">\n",
       "      <th></th>\n",
       "      <th>P</th>\n",
       "      <th>P1</th>\n",
       "      <th>P2</th>\n",
       "      <th>P3</th>\n",
       "      <th>P4</th>\n",
       "      <th>P5</th>\n",
       "      <th>P6</th>\n",
       "      <th>P7</th>\n",
       "      <th>P8</th>\n",
       "      <th>P9</th>\n",
       "      <th>P10</th>\n",
       "      <th>P11</th>\n",
       "    </tr>\n",
       "  </thead>\n",
       "  <tbody>\n",
       "    <tr>\n",
       "      <th>0</th>\n",
       "      <td>P1</td>\n",
       "      <td>0</td>\n",
       "      <td>1</td>\n",
       "      <td>1</td>\n",
       "      <td>1</td>\n",
       "      <td>0</td>\n",
       "      <td>0</td>\n",
       "      <td>0</td>\n",
       "      <td>0</td>\n",
       "      <td>0</td>\n",
       "      <td>1</td>\n",
       "      <td>0</td>\n",
       "    </tr>\n",
       "    <tr>\n",
       "      <th>1</th>\n",
       "      <td>P2</td>\n",
       "      <td>6</td>\n",
       "      <td>0</td>\n",
       "      <td>18</td>\n",
       "      <td>0</td>\n",
       "      <td>0</td>\n",
       "      <td>20</td>\n",
       "      <td>0</td>\n",
       "      <td>0</td>\n",
       "      <td>0</td>\n",
       "      <td>0</td>\n",
       "      <td>0</td>\n",
       "    </tr>\n",
       "    <tr>\n",
       "      <th>2</th>\n",
       "      <td>P3</td>\n",
       "      <td>6</td>\n",
       "      <td>10</td>\n",
       "      <td>0</td>\n",
       "      <td>0</td>\n",
       "      <td>8</td>\n",
       "      <td>12</td>\n",
       "      <td>0</td>\n",
       "      <td>11</td>\n",
       "      <td>0</td>\n",
       "      <td>0</td>\n",
       "      <td>0</td>\n",
       "    </tr>\n",
       "    <tr>\n",
       "      <th>3</th>\n",
       "      <td>P4</td>\n",
       "      <td>2</td>\n",
       "      <td>6</td>\n",
       "      <td>0</td>\n",
       "      <td>0</td>\n",
       "      <td>0</td>\n",
       "      <td>6</td>\n",
       "      <td>4</td>\n",
       "      <td>2</td>\n",
       "      <td>0</td>\n",
       "      <td>0</td>\n",
       "      <td>0</td>\n",
       "    </tr>\n",
       "    <tr>\n",
       "      <th>4</th>\n",
       "      <td>P5</td>\n",
       "      <td>2</td>\n",
       "      <td>0</td>\n",
       "      <td>6</td>\n",
       "      <td>0</td>\n",
       "      <td>0</td>\n",
       "      <td>14</td>\n",
       "      <td>0</td>\n",
       "      <td>7</td>\n",
       "      <td>0</td>\n",
       "      <td>5</td>\n",
       "      <td>0</td>\n",
       "    </tr>\n",
       "    <tr>\n",
       "      <th>5</th>\n",
       "      <td>P6</td>\n",
       "      <td>0</td>\n",
       "      <td>0</td>\n",
       "      <td>1</td>\n",
       "      <td>2</td>\n",
       "      <td>1</td>\n",
       "      <td>0</td>\n",
       "      <td>0</td>\n",
       "      <td>3</td>\n",
       "      <td>2</td>\n",
       "      <td>3</td>\n",
       "      <td>2</td>\n",
       "    </tr>\n",
       "    <tr>\n",
       "      <th>6</th>\n",
       "      <td>P7</td>\n",
       "      <td>0</td>\n",
       "      <td>1</td>\n",
       "      <td>0</td>\n",
       "      <td>0</td>\n",
       "      <td>0</td>\n",
       "      <td>2</td>\n",
       "      <td>0</td>\n",
       "      <td>0</td>\n",
       "      <td>2</td>\n",
       "      <td>2</td>\n",
       "      <td>2</td>\n",
       "    </tr>\n",
       "    <tr>\n",
       "      <th>7</th>\n",
       "      <td>P8</td>\n",
       "      <td>0</td>\n",
       "      <td>0</td>\n",
       "      <td>1</td>\n",
       "      <td>0</td>\n",
       "      <td>0</td>\n",
       "      <td>1</td>\n",
       "      <td>0</td>\n",
       "      <td>0</td>\n",
       "      <td>3</td>\n",
       "      <td>3</td>\n",
       "      <td>2</td>\n",
       "    </tr>\n",
       "    <tr>\n",
       "      <th>8</th>\n",
       "      <td>P9</td>\n",
       "      <td>0</td>\n",
       "      <td>0</td>\n",
       "      <td>0</td>\n",
       "      <td>0</td>\n",
       "      <td>0</td>\n",
       "      <td>0</td>\n",
       "      <td>0</td>\n",
       "      <td>0</td>\n",
       "      <td>0</td>\n",
       "      <td>2</td>\n",
       "      <td>1</td>\n",
       "    </tr>\n",
       "    <tr>\n",
       "      <th>9</th>\n",
       "      <td>P10</td>\n",
       "      <td>0</td>\n",
       "      <td>0</td>\n",
       "      <td>0</td>\n",
       "      <td>0</td>\n",
       "      <td>0</td>\n",
       "      <td>1</td>\n",
       "      <td>0</td>\n",
       "      <td>1</td>\n",
       "      <td>2</td>\n",
       "      <td>0</td>\n",
       "      <td>2</td>\n",
       "    </tr>\n",
       "    <tr>\n",
       "      <th>10</th>\n",
       "      <td>P11</td>\n",
       "      <td>0</td>\n",
       "      <td>0</td>\n",
       "      <td>0</td>\n",
       "      <td>0</td>\n",
       "      <td>1</td>\n",
       "      <td>0</td>\n",
       "      <td>0</td>\n",
       "      <td>1</td>\n",
       "      <td>1</td>\n",
       "      <td>3</td>\n",
       "      <td>0</td>\n",
       "    </tr>\n",
       "  </tbody>\n",
       "</table>\n",
       "</div>"
      ],
      "text/plain": [
       "      P  P1  P2  P3  P4  P5  P6  P7  P8  P9  P10  P11\n",
       "0    P1   0   1   1   1   0   0   0   0   0    1    0\n",
       "1    P2   6   0  18   0   0  20   0   0   0    0    0\n",
       "2    P3   6  10   0   0   8  12   0  11   0    0    0\n",
       "3    P4   2   6   0   0   0   6   4   2   0    0    0\n",
       "4    P5   2   0   6   0   0  14   0   7   0    5    0\n",
       "5    P6   0   0   1   2   1   0   0   3   2    3    2\n",
       "6    P7   0   1   0   0   0   2   0   0   2    2    2\n",
       "7    P8   0   0   1   0   0   1   0   0   3    3    2\n",
       "8    P9   0   0   0   0   0   0   0   0   0    2    1\n",
       "9   P10   0   0   0   0   0   1   0   1   2    0    2\n",
       "10  P11   0   0   0   0   1   0   0   1   1    3    0"
      ]
     },
     "execution_count": 5,
     "metadata": {},
     "output_type": "execute_result"
    }
   ],
   "source": [
    "df = pd.read_csv('data/first_period.csv')\n",
    "df"
   ]
  },
  {
   "cell_type": "code",
   "execution_count": 6,
   "metadata": {
    "collapsed": false
   },
   "outputs": [
    {
     "data": {
      "text/plain": [
       "['P1', 'P2', 'P3', 'P4', 'P5', 'P6', 'P7', 'P8', 'P9', 'P10', 'P11']"
      ]
     },
     "execution_count": 6,
     "metadata": {},
     "output_type": "execute_result"
    }
   ],
   "source": [
    "players = list(df.columns[1:])\n",
    "players"
   ]
  },
  {
   "cell_type": "code",
   "execution_count": 7,
   "metadata": {
    "collapsed": true
   },
   "outputs": [],
   "source": [
    "G = nx.DiGraph()"
   ]
  },
  {
   "cell_type": "code",
   "execution_count": 8,
   "metadata": {
    "collapsed": false
   },
   "outputs": [],
   "source": [
    "for index, row in df.iterrows():\n",
    "    for player in players:\n",
    "        G.add_edge(row['P'], player , weight=row[player])"
   ]
  },
  {
   "cell_type": "code",
   "execution_count": 9,
   "metadata": {
    "collapsed": false
   },
   "outputs": [
    {
     "data": {
      "image/png": "[encoded data removed]",
      "text/plain": [
       "<matplotlib.figure.Figure at 0x7fc65ee81a20>"
      ]
     },
     "metadata": {},
     "output_type": "display_data"
    }
   ],
   "source": [
    "nx.draw(G, with_labels = True, node_size=700)\n",
    "plt.show()"
   ]
  },
  {
   "cell_type": "code",
   "execution_count": 10,
   "metadata": {
    "collapsed": false
   },
   "outputs": [
    {
     "data": {
      "text/plain": [
       "\"{'P7': 0.0194211941760637, 'P11': 0.15785301410998948, 'P6': 0.11499429713415688, 'P9': 0.14792786160181126, 'P8': 0.11323696443656019, 'P3': 0.058717644504349, 'P4': 0.03402805011653114, 'P10': 0.23090071703859866, 'P2': 0.04119514301552847, 'P5': 0.05147599990980031, 'P1': 0.03024911395661084}\""
      ]
     },
     "execution_count": 10,
     "metadata": {},
     "output_type": "execute_result"
    }
   ],
   "source": [
    "pr = nx.pagerank(G)\n",
    "repr(pr)"
   ]
  },
  {
   "cell_type": "code",
   "execution_count": 11,
   "metadata": {
    "collapsed": false
   },
   "outputs": [
    {
     "data": {
      "text/plain": [
       "\"{'P7': -0.15309311572590653, 'P11': 0.13624705584608843, 'P3': 0.2738228784575988, 'P5': 0.14866610081432635, 'P6': 0.6654079059142652, 'P4': -0.0063385439952963595, 'P8': 0.4997998499830032, 'P10': 0.3310674267757482, 'P2': 0.11529031530968087, 'P9': 0.18168340584454326, 'P1': 0.11137572949638581}\""
      ]
     },
     "execution_count": 11,
     "metadata": {},
     "output_type": "execute_result"
    }
   ],
   "source": [
    "kz = nx.katz_centrality_numpy(G)\n",
    "repr(kz)"
   ]
  },
  {
   "cell_type": "code",
   "execution_count": 12,
   "metadata": {
    "collapsed": true
   },
   "outputs": [],
   "source": [
    "# Hand-made LTC values\n",
    "\n",
    "LTC_P1=[1,2,3,4,5,6,7,8,9,10,11]\n",
    "LTC_P2=[1,2,3,4,5,6,7,8]\n",
    "LTC_P3=[1,2,3,4,5,6,7,8]\n",
    "LTC_P4=[1,2,4,5,6,7,8]\n",
    "LTC_P5=[1,2,3,4,5,6,7,8,9,10,11]\n",
    "LTC_P6=[1,2,3,4,5,6,7,8,9,10,11]\n",
    "LTC_P7=[2,4,6,7,9,10,11]\n",
    "LTC_P8=[1,2,3,4,5,6,7,8,9,10,11]\n",
    "LTC_P9=[4,6,7,8,9,10,11]\n",
    "LTC_P10=[1,4,5,6,7,8,9,10,11]\n",
    "LTC_P11=[4,5,6,7,8,9,10,11]\n",
    "\n",
    "\n",
    "ltc = {'P1':11,'P2':8,'P3':8,'P4':7,'P5':11,'P6':11,'P7':7,'P8':11,'P9':7,'P10':9,'P11':8}"
   ]
  },
  {
   "cell_type": "code",
   "execution_count": 13,
   "metadata": {
    "collapsed": false
   },
   "outputs": [
    {
     "name": "stdout",
     "output_type": "stream",
     "text": [
      "[['P1', 0.03024911395661084, 0.11137572949638581, 1.0], ['P2', 0.04119514301552847, 0.11529031530968087, 0.7272727272727273], ['P3', 0.058717644504349, 0.2738228784575988, 0.7272727272727273], ['P4', 0.03402805011653114, -0.0063385439952963595, 0.6363636363636364], ['P5', 0.05147599990980031, 0.14866610081432635, 1.0], ['P6', 0.11499429713415688, 0.6654079059142652, 1.0], ['P7', 0.0194211941760637, -0.15309311572590653, 0.6363636363636364], ['P8', 0.11323696443656019, 0.4997998499830032, 1.0], ['P9', 0.14792786160181126, 0.18168340584454326, 0.6363636363636364], ['P10', 0.23090071703859866, 0.3310674267757482, 0.8181818181818182], ['P11', 0.15785301410998948, 0.13624705584608843, 0.7272727272727273]]\n"
     ]
    }
   ],
   "source": [
    "to_dataframe = []\n",
    "for player in players:\n",
    "    list_attributes = []\n",
    "    list_attributes.append(player)\n",
    "    list_attributes.append(pr[player])\n",
    "    list_attributes.append(kz[player])\n",
    "    list_attributes.append(float(ltc[player])/len(players))\n",
    "    to_dataframe.append(list_attributes)\n",
    "    \n",
    "print(to_dataframe)"
   ]
  },
  {
   "cell_type": "code",
   "execution_count": 14,
   "metadata": {
    "collapsed": false
   },
   "outputs": [
    {
     "data": {
      "text/html": [
       "<div>\n",
       "<table border=\"1\" class=\"dataframe\">\n",
       "  <thead>\n",
       "    <tr style=\"text-align: right;\">\n",
       "      <th></th>\n",
       "      <th>node</th>\n",
       "      <th>pr</th>\n",
       "      <th>kz</th>\n",
       "      <th>ltc</th>\n",
       "    </tr>\n",
       "  </thead>\n",
       "  <tbody>\n",
       "    <tr>\n",
       "      <th>0</th>\n",
       "      <td>P1</td>\n",
       "      <td>0.030249</td>\n",
       "      <td>0.111376</td>\n",
       "      <td>1.000000</td>\n",
       "    </tr>\n",
       "    <tr>\n",
       "      <th>1</th>\n",
       "      <td>P2</td>\n",
       "      <td>0.041195</td>\n",
       "      <td>0.115290</td>\n",
       "      <td>0.727273</td>\n",
       "    </tr>\n",
       "    <tr>\n",
       "      <th>2</th>\n",
       "      <td>P3</td>\n",
       "      <td>0.058718</td>\n",
       "      <td>0.273823</td>\n",
       "      <td>0.727273</td>\n",
       "    </tr>\n",
       "    <tr>\n",
       "      <th>3</th>\n",
       "      <td>P4</td>\n",
       "      <td>0.034028</td>\n",
       "      <td>-0.006339</td>\n",
       "      <td>0.636364</td>\n",
       "    </tr>\n",
       "    <tr>\n",
       "      <th>4</th>\n",
       "      <td>P5</td>\n",
       "      <td>0.051476</td>\n",
       "      <td>0.148666</td>\n",
       "      <td>1.000000</td>\n",
       "    </tr>\n",
       "    <tr>\n",
       "      <th>5</th>\n",
       "      <td>P6</td>\n",
       "      <td>0.114994</td>\n",
       "      <td>0.665408</td>\n",
       "      <td>1.000000</td>\n",
       "    </tr>\n",
       "    <tr>\n",
       "      <th>6</th>\n",
       "      <td>P7</td>\n",
       "      <td>0.019421</td>\n",
       "      <td>-0.153093</td>\n",
       "      <td>0.636364</td>\n",
       "    </tr>\n",
       "    <tr>\n",
       "      <th>7</th>\n",
       "      <td>P8</td>\n",
       "      <td>0.113237</td>\n",
       "      <td>0.499800</td>\n",
       "      <td>1.000000</td>\n",
       "    </tr>\n",
       "    <tr>\n",
       "      <th>8</th>\n",
       "      <td>P9</td>\n",
       "      <td>0.147928</td>\n",
       "      <td>0.181683</td>\n",
       "      <td>0.636364</td>\n",
       "    </tr>\n",
       "    <tr>\n",
       "      <th>9</th>\n",
       "      <td>P10</td>\n",
       "      <td>0.230901</td>\n",
       "      <td>0.331067</td>\n",
       "      <td>0.818182</td>\n",
       "    </tr>\n",
       "    <tr>\n",
       "      <th>10</th>\n",
       "      <td>P11</td>\n",
       "      <td>0.157853</td>\n",
       "      <td>0.136247</td>\n",
       "      <td>0.727273</td>\n",
       "    </tr>\n",
       "  </tbody>\n",
       "</table>\n",
       "</div>"
      ],
      "text/plain": [
       "   node        pr        kz       ltc\n",
       "0    P1  0.030249  0.111376  1.000000\n",
       "1    P2  0.041195  0.115290  0.727273\n",
       "2    P3  0.058718  0.273823  0.727273\n",
       "3    P4  0.034028 -0.006339  0.636364\n",
       "4    P5  0.051476  0.148666  1.000000\n",
       "5    P6  0.114994  0.665408  1.000000\n",
       "6    P7  0.019421 -0.153093  0.636364\n",
       "7    P8  0.113237  0.499800  1.000000\n",
       "8    P9  0.147928  0.181683  0.636364\n",
       "9   P10  0.230901  0.331067  0.818182\n",
       "10  P11  0.157853  0.136247  0.727273"
      ]
     },
     "execution_count": 14,
     "metadata": {},
     "output_type": "execute_result"
    }
   ],
   "source": [
    "df_centrality = pd.DataFrame(to_dataframe, columns=['node','pr','kz','ltc'])\n",
    "df_centrality"
   ]
  },
  {
   "cell_type": "code",
   "execution_count": 15,
   "metadata": {
    "collapsed": false
   },
   "outputs": [
    {
     "data": {
      "text/html": [
       "<div>\n",
       "<table border=\"1\" class=\"dataframe\">\n",
       "  <thead>\n",
       "    <tr style=\"text-align: right;\">\n",
       "      <th></th>\n",
       "      <th>pr</th>\n",
       "      <th>kz</th>\n",
       "      <th>ltc</th>\n",
       "    </tr>\n",
       "  </thead>\n",
       "  <tbody>\n",
       "    <tr>\n",
       "      <th>pr</th>\n",
       "      <td>1.000000</td>\n",
       "      <td>0.502838</td>\n",
       "      <td>0.042418</td>\n",
       "    </tr>\n",
       "    <tr>\n",
       "      <th>kz</th>\n",
       "      <td>0.502838</td>\n",
       "      <td>1.000000</td>\n",
       "      <td>0.622642</td>\n",
       "    </tr>\n",
       "    <tr>\n",
       "      <th>ltc</th>\n",
       "      <td>0.042418</td>\n",
       "      <td>0.622642</td>\n",
       "      <td>1.000000</td>\n",
       "    </tr>\n",
       "  </tbody>\n",
       "</table>\n",
       "</div>"
      ],
      "text/plain": [
       "           pr        kz       ltc\n",
       "pr   1.000000  0.502838  0.042418\n",
       "kz   0.502838  1.000000  0.622642\n",
       "ltc  0.042418  0.622642  1.000000"
      ]
     },
     "execution_count": 15,
     "metadata": {},
     "output_type": "execute_result"
    }
   ],
   "source": [
    "df_centrality.corr()"
   ]
  },
  {
   "cell_type": "code",
   "execution_count": 16,
   "metadata": {
    "collapsed": false
   },
   "outputs": [
    {
     "data": {
      "text/html": [
       "<div>\n",
       "<table border=\"1\" class=\"dataframe\">\n",
       "  <thead>\n",
       "    <tr style=\"text-align: right;\">\n",
       "      <th></th>\n",
       "      <th>pr</th>\n",
       "      <th>kz</th>\n",
       "      <th>ltc</th>\n",
       "    </tr>\n",
       "  </thead>\n",
       "  <tbody>\n",
       "    <tr>\n",
       "      <th>pr</th>\n",
       "      <td>1.000000</td>\n",
       "      <td>0.736364</td>\n",
       "      <td>0.151797</td>\n",
       "    </tr>\n",
       "    <tr>\n",
       "      <th>kz</th>\n",
       "      <td>0.736364</td>\n",
       "      <td>1.000000</td>\n",
       "      <td>0.540777</td>\n",
       "    </tr>\n",
       "    <tr>\n",
       "      <th>ltc</th>\n",
       "      <td>0.151797</td>\n",
       "      <td>0.540777</td>\n",
       "      <td>1.000000</td>\n",
       "    </tr>\n",
       "  </tbody>\n",
       "</table>\n",
       "</div>"
      ],
      "text/plain": [
       "           pr        kz       ltc\n",
       "pr   1.000000  0.736364  0.151797\n",
       "kz   0.736364  1.000000  0.540777\n",
       "ltc  0.151797  0.540777  1.000000"
      ]
     },
     "execution_count": 16,
     "metadata": {},
     "output_type": "execute_result"
    }
   ],
   "source": [
    "df_centrality.corr(method='spearman')"
   ]
  },
  {
   "cell_type": "code",
   "execution_count": 17,
   "metadata": {
    "collapsed": false
   },
   "outputs": [
    {
     "data": {
      "text/html": [
       "<div>\n",
       "<table border=\"1\" class=\"dataframe\">\n",
       "  <thead>\n",
       "    <tr style=\"text-align: right;\">\n",
       "      <th></th>\n",
       "      <th>pr</th>\n",
       "      <th>kz</th>\n",
       "      <th>ltc</th>\n",
       "    </tr>\n",
       "  </thead>\n",
       "  <tbody>\n",
       "    <tr>\n",
       "      <th>pr</th>\n",
       "      <td>1.00000</td>\n",
       "      <td>0.600000</td>\n",
       "      <td>0.143940</td>\n",
       "    </tr>\n",
       "    <tr>\n",
       "      <th>kz</th>\n",
       "      <td>0.60000</td>\n",
       "      <td>1.000000</td>\n",
       "      <td>0.472947</td>\n",
       "    </tr>\n",
       "    <tr>\n",
       "      <th>ltc</th>\n",
       "      <td>0.14394</td>\n",
       "      <td>0.472947</td>\n",
       "      <td>1.000000</td>\n",
       "    </tr>\n",
       "  </tbody>\n",
       "</table>\n",
       "</div>"
      ],
      "text/plain": [
       "          pr        kz       ltc\n",
       "pr   1.00000  0.600000  0.143940\n",
       "kz   0.60000  1.000000  0.472947\n",
       "ltc  0.14394  0.472947  1.000000"
      ]
     },
     "execution_count": 17,
     "metadata": {},
     "output_type": "execute_result"
    }
   ],
   "source": [
    "df_centrality.corr(method='kendall')"
   ]
  }
 ],
 "metadata": {
  "kernelspec": {
   "display_name": "Python 3",
   "language": "python",
   "name": "python3"
  },
  "language_info": {
   "codemirror_mode": {
    "name": "ipython",
    "version": 3
   },
   "file_extension": ".py",
   "mimetype": "text/x-python",
   "name": "python",
   "nbconvert_exporter": "python",
   "pygments_lexer": "ipython3",
   "version": "3.5.2+"
  }
 },
 "nbformat": 4,
 "nbformat_minor": 1
}
