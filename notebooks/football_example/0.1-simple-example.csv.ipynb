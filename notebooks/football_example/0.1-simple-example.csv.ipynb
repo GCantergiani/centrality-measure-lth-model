{
 "cells": [
  {
   "cell_type": "code",
   "execution_count": 1,
   "metadata": {
    "collapsed": true
   },
   "outputs": [],
   "source": [
    "%matplotlib inline \n",
    "\n",
    "import networkx as nx\n",
    "import pandas as pd\n",
    "import numpy as np\n",
    "import matplotlib.pyplot as plt"
   ]
  },
  {
   "cell_type": "code",
   "execution_count": 2,
   "metadata": {
    "collapsed": false
   },
   "outputs": [
    {
     "data": {
      "text/html": [
       "<div>\n",
       "<table border=\"1\" class=\"dataframe\">\n",
       "  <thead>\n",
       "    <tr style=\"text-align: right;\">\n",
       "      <th></th>\n",
       "      <th>P</th>\n",
       "      <th>P1</th>\n",
       "      <th>P2</th>\n",
       "      <th>P3</th>\n",
       "      <th>P4</th>\n",
       "      <th>P5</th>\n",
       "      <th>P6</th>\n",
       "      <th>P7</th>\n",
       "      <th>P8</th>\n",
       "      <th>P9</th>\n",
       "      <th>P10</th>\n",
       "      <th>P11</th>\n",
       "    </tr>\n",
       "  </thead>\n",
       "  <tbody>\n",
       "    <tr>\n",
       "      <th>0</th>\n",
       "      <td>P1</td>\n",
       "      <td>0</td>\n",
       "      <td>1</td>\n",
       "      <td>1</td>\n",
       "      <td>1</td>\n",
       "      <td>0</td>\n",
       "      <td>0</td>\n",
       "      <td>0</td>\n",
       "      <td>0</td>\n",
       "      <td>0</td>\n",
       "      <td>2</td>\n",
       "      <td>0</td>\n",
       "    </tr>\n",
       "    <tr>\n",
       "      <th>1</th>\n",
       "      <td>P2</td>\n",
       "      <td>9</td>\n",
       "      <td>0</td>\n",
       "      <td>27</td>\n",
       "      <td>0</td>\n",
       "      <td>0</td>\n",
       "      <td>30</td>\n",
       "      <td>0</td>\n",
       "      <td>0</td>\n",
       "      <td>0</td>\n",
       "      <td>0</td>\n",
       "      <td>0</td>\n",
       "    </tr>\n",
       "    <tr>\n",
       "      <th>2</th>\n",
       "      <td>P3</td>\n",
       "      <td>8</td>\n",
       "      <td>15</td>\n",
       "      <td>0</td>\n",
       "      <td>0</td>\n",
       "      <td>12</td>\n",
       "      <td>18</td>\n",
       "      <td>0</td>\n",
       "      <td>16</td>\n",
       "      <td>0</td>\n",
       "      <td>0</td>\n",
       "      <td>0</td>\n",
       "    </tr>\n",
       "    <tr>\n",
       "      <th>3</th>\n",
       "      <td>P4</td>\n",
       "      <td>3</td>\n",
       "      <td>8</td>\n",
       "      <td>0</td>\n",
       "      <td>0</td>\n",
       "      <td>0</td>\n",
       "      <td>8</td>\n",
       "      <td>5</td>\n",
       "      <td>3</td>\n",
       "      <td>0</td>\n",
       "      <td>0</td>\n",
       "      <td>0</td>\n",
       "    </tr>\n",
       "    <tr>\n",
       "      <th>4</th>\n",
       "      <td>P5</td>\n",
       "      <td>2</td>\n",
       "      <td>0</td>\n",
       "      <td>8</td>\n",
       "      <td>0</td>\n",
       "      <td>0</td>\n",
       "      <td>21</td>\n",
       "      <td>0</td>\n",
       "      <td>10</td>\n",
       "      <td>0</td>\n",
       "      <td>7</td>\n",
       "      <td>0</td>\n",
       "    </tr>\n",
       "    <tr>\n",
       "      <th>5</th>\n",
       "      <td>P6</td>\n",
       "      <td>0</td>\n",
       "      <td>0</td>\n",
       "      <td>4</td>\n",
       "      <td>8</td>\n",
       "      <td>4</td>\n",
       "      <td>0</td>\n",
       "      <td>0</td>\n",
       "      <td>12</td>\n",
       "      <td>8</td>\n",
       "      <td>14</td>\n",
       "      <td>9</td>\n",
       "    </tr>\n",
       "    <tr>\n",
       "      <th>6</th>\n",
       "      <td>P7</td>\n",
       "      <td>0</td>\n",
       "      <td>4</td>\n",
       "      <td>0</td>\n",
       "      <td>3</td>\n",
       "      <td>0</td>\n",
       "      <td>8</td>\n",
       "      <td>0</td>\n",
       "      <td>0</td>\n",
       "      <td>10</td>\n",
       "      <td>11</td>\n",
       "      <td>9</td>\n",
       "    </tr>\n",
       "    <tr>\n",
       "      <th>7</th>\n",
       "      <td>P8</td>\n",
       "      <td>0</td>\n",
       "      <td>0</td>\n",
       "      <td>4</td>\n",
       "      <td>0</td>\n",
       "      <td>3</td>\n",
       "      <td>5</td>\n",
       "      <td>0</td>\n",
       "      <td>0</td>\n",
       "      <td>12</td>\n",
       "      <td>14</td>\n",
       "      <td>9</td>\n",
       "    </tr>\n",
       "    <tr>\n",
       "      <th>8</th>\n",
       "      <td>P9</td>\n",
       "      <td>0</td>\n",
       "      <td>0</td>\n",
       "      <td>0</td>\n",
       "      <td>0</td>\n",
       "      <td>0</td>\n",
       "      <td>1</td>\n",
       "      <td>2</td>\n",
       "      <td>2</td>\n",
       "      <td>0</td>\n",
       "      <td>8</td>\n",
       "      <td>5</td>\n",
       "    </tr>\n",
       "    <tr>\n",
       "      <th>9</th>\n",
       "      <td>P10</td>\n",
       "      <td>0</td>\n",
       "      <td>3</td>\n",
       "      <td>0</td>\n",
       "      <td>0</td>\n",
       "      <td>0</td>\n",
       "      <td>6</td>\n",
       "      <td>0</td>\n",
       "      <td>7</td>\n",
       "      <td>11</td>\n",
       "      <td>0</td>\n",
       "      <td>11</td>\n",
       "    </tr>\n",
       "    <tr>\n",
       "      <th>10</th>\n",
       "      <td>P11</td>\n",
       "      <td>0</td>\n",
       "      <td>0</td>\n",
       "      <td>2</td>\n",
       "      <td>0</td>\n",
       "      <td>4</td>\n",
       "      <td>0</td>\n",
       "      <td>0</td>\n",
       "      <td>7</td>\n",
       "      <td>7</td>\n",
       "      <td>13</td>\n",
       "      <td>0</td>\n",
       "    </tr>\n",
       "  </tbody>\n",
       "</table>\n",
       "</div>"
      ],
      "text/plain": [
       "      P  P1  P2  P3  P4  P5  P6  P7  P8  P9  P10  P11\n",
       "0    P1   0   1   1   1   0   0   0   0   0    2    0\n",
       "1    P2   9   0  27   0   0  30   0   0   0    0    0\n",
       "2    P3   8  15   0   0  12  18   0  16   0    0    0\n",
       "3    P4   3   8   0   0   0   8   5   3   0    0    0\n",
       "4    P5   2   0   8   0   0  21   0  10   0    7    0\n",
       "5    P6   0   0   4   8   4   0   0  12   8   14    9\n",
       "6    P7   0   4   0   3   0   8   0   0  10   11    9\n",
       "7    P8   0   0   4   0   3   5   0   0  12   14    9\n",
       "8    P9   0   0   0   0   0   1   2   2   0    8    5\n",
       "9   P10   0   3   0   0   0   6   0   7  11    0   11\n",
       "10  P11   0   0   2   0   4   0   0   7   7   13    0"
      ]
     },
     "execution_count": 2,
     "metadata": {},
     "output_type": "execute_result"
    }
   ],
   "source": [
    "df = pd.read_csv('data/match.csv')\n",
    "df"
   ]
  },
  {
   "cell_type": "code",
   "execution_count": 3,
   "metadata": {
    "collapsed": false
   },
   "outputs": [
    {
     "data": {
      "text/plain": [
       "['P1', 'P2', 'P3', 'P4', 'P5', 'P6', 'P7', 'P8', 'P9', 'P10', 'P11']"
      ]
     },
     "execution_count": 3,
     "metadata": {},
     "output_type": "execute_result"
    }
   ],
   "source": [
    "players = list(df.columns[1:])\n",
    "players"
   ]
  },
  {
   "cell_type": "code",
   "execution_count": 4,
   "metadata": {
    "collapsed": true
   },
   "outputs": [],
   "source": [
    "G = nx.DiGraph()"
   ]
  },
  {
   "cell_type": "code",
   "execution_count": 5,
   "metadata": {
    "collapsed": false
   },
   "outputs": [],
   "source": [
    "for index, row in df.iterrows():\n",
    "    for player in players:\n",
    "        G.add_edge(row['P'], player , weight=row[player])"
   ]
  },
  {
   "cell_type": "code",
   "execution_count": 6,
   "metadata": {
    "collapsed": false
   },
   "outputs": [
    {
     "data": {
      "image/png": "[encoded data removed]",
      "text/plain": [
       "<matplotlib.figure.Figure at 0x7f17bf4a7e48>"
      ]
     },
     "metadata": {},
     "output_type": "display_data"
    }
   ],
   "source": [
    "nx.draw(G, with_labels = True, node_size=700)\n",
    "plt.show()"
   ]
  },
  {
   "cell_type": "code",
   "execution_count": 7,
   "metadata": {
    "collapsed": false
   },
   "outputs": [
    {
     "data": {
      "text/plain": [
       "\"{'P6': 0.12820995476846755, 'P3': 0.06993897259385073, 'P10': 0.19282271723141434, 'P7': 0.031966532947350045, 'P2': 0.056399846664311776, 'P5': 0.052412218667095625, 'P9': 0.13455937308115515, 'P4': 0.03571494488537097, 'P1': 0.03229565789080632, 'P8': 0.1296650744308684, 'P11': 0.13601470683930905}\""
      ]
     },
     "execution_count": 7,
     "metadata": {},
     "output_type": "execute_result"
    }
   ],
   "source": [
    "pr = nx.pagerank(G)\n",
    "repr(pr)"
   ]
  },
  {
   "cell_type": "code",
   "execution_count": 8,
   "metadata": {
    "collapsed": false
   },
   "outputs": [
    {
     "data": {
      "text/plain": [
       "\"{'P6': -0.43921996648282213, 'P3': -0.2413334086741917, 'P10': 0.3565378151170108, 'P7': 0.25098252160116735, 'P2': -0.0404811985864796, 'P5': -0.16566040411505775, 'P9': 0.5021181298625771, 'P4': -0.08995369747592762, 'P1': -0.09408225136635905, 'P8': -0.24796538438297763, 'P11': 0.4462038595884471}\""
      ]
     },
     "execution_count": 8,
     "metadata": {},
     "output_type": "execute_result"
    }
   ],
   "source": [
    "kz = nx.katz_centrality_numpy(G)\n",
    "repr(kz)"
   ]
  },
  {
   "cell_type": "code",
   "execution_count": 9,
   "metadata": {
    "collapsed": true
   },
   "outputs": [],
   "source": [
    "# Hand-made LTC values\n",
    "\n",
    "LTC_P1=[1,2,3,4,5,6,7,8,9,10,11]\n",
    "LTC_P2=[1,2,3,4,6,7,10]\n",
    "LTC_P3=[1,2,3,4,5,6,7,8,9,10,11]\n",
    "LTC_P4=[1,2,3,4,5,6,7,8]\n",
    "LTC_P5=[1,2,3,4,5,6,7,8,9,10,11]\n",
    "LTC_P6=[1,2,3,4,5,6,7,8,9,10,11]\n",
    "LTC_P7=[2,4,6,7,9,10,11]\n",
    "LTC_P8=[1,2,3,4,5,6,7,8,9,10,11]\n",
    "LTC_P9=[4,6,7,8,9,10,11]\n",
    "LTC_P10=[1,2,3,4,5,6,7,8,9,10,11]\n",
    "LTC_P11=[1,2,3,4,5,6,7,8,9,10,11]\n",
    "\n",
    "ltc = {'P1':11,'P2':7,'P3':11,'P4':8,'P5':11,'P6':11,'P7':8,'P8':11,'P9':7,'P10':11,'P11':11}"
   ]
  },
  {
   "cell_type": "code",
   "execution_count": 10,
   "metadata": {
    "collapsed": false
   },
   "outputs": [
    {
     "name": "stdout",
     "output_type": "stream",
     "text": [
      "[['P1', 0.03229565789080632, -0.09408225136635905, 1.0], ['P2', 0.056399846664311776, -0.0404811985864796, 0.6363636363636364], ['P3', 0.06993897259385073, -0.2413334086741917, 1.0], ['P4', 0.03571494488537097, -0.08995369747592762, 0.7272727272727273], ['P5', 0.052412218667095625, -0.16566040411505775, 1.0], ['P6', 0.12820995476846755, -0.43921996648282213, 1.0], ['P7', 0.031966532947350045, 0.25098252160116735, 0.7272727272727273], ['P8', 0.1296650744308684, -0.24796538438297763, 1.0], ['P9', 0.13455937308115515, 0.5021181298625771, 0.6363636363636364], ['P10', 0.19282271723141434, 0.3565378151170108, 1.0], ['P11', 0.13601470683930905, 0.4462038595884471, 1.0]]\n"
     ]
    }
   ],
   "source": [
    "to_dataframe = []\n",
    "for player in players:\n",
    "    list_attributes = []\n",
    "    list_attributes.append(player)\n",
    "    list_attributes.append(pr[player])\n",
    "    list_attributes.append(kz[player])\n",
    "    list_attributes.append(float(ltc[player])/len(players))\n",
    "    to_dataframe.append(list_attributes)\n",
    "    \n",
    "print(to_dataframe)"
   ]
  },
  {
   "cell_type": "code",
   "execution_count": 11,
   "metadata": {
    "collapsed": false
   },
   "outputs": [
    {
     "data": {
      "text/html": [
       "<div>\n",
       "<table border=\"1\" class=\"dataframe\">\n",
       "  <thead>\n",
       "    <tr style=\"text-align: right;\">\n",
       "      <th></th>\n",
       "      <th>node</th>\n",
       "      <th>pr</th>\n",
       "      <th>kz</th>\n",
       "      <th>ltc</th>\n",
       "    </tr>\n",
       "  </thead>\n",
       "  <tbody>\n",
       "    <tr>\n",
       "      <th>0</th>\n",
       "      <td>P1</td>\n",
       "      <td>0.032296</td>\n",
       "      <td>-0.094082</td>\n",
       "      <td>1.000000</td>\n",
       "    </tr>\n",
       "    <tr>\n",
       "      <th>1</th>\n",
       "      <td>P2</td>\n",
       "      <td>0.056400</td>\n",
       "      <td>-0.040481</td>\n",
       "      <td>0.636364</td>\n",
       "    </tr>\n",
       "    <tr>\n",
       "      <th>2</th>\n",
       "      <td>P3</td>\n",
       "      <td>0.069939</td>\n",
       "      <td>-0.241333</td>\n",
       "      <td>1.000000</td>\n",
       "    </tr>\n",
       "    <tr>\n",
       "      <th>3</th>\n",
       "      <td>P4</td>\n",
       "      <td>0.035715</td>\n",
       "      <td>-0.089954</td>\n",
       "      <td>0.727273</td>\n",
       "    </tr>\n",
       "    <tr>\n",
       "      <th>4</th>\n",
       "      <td>P5</td>\n",
       "      <td>0.052412</td>\n",
       "      <td>-0.165660</td>\n",
       "      <td>1.000000</td>\n",
       "    </tr>\n",
       "    <tr>\n",
       "      <th>5</th>\n",
       "      <td>P6</td>\n",
       "      <td>0.128210</td>\n",
       "      <td>-0.439220</td>\n",
       "      <td>1.000000</td>\n",
       "    </tr>\n",
       "    <tr>\n",
       "      <th>6</th>\n",
       "      <td>P7</td>\n",
       "      <td>0.031967</td>\n",
       "      <td>0.250983</td>\n",
       "      <td>0.727273</td>\n",
       "    </tr>\n",
       "    <tr>\n",
       "      <th>7</th>\n",
       "      <td>P8</td>\n",
       "      <td>0.129665</td>\n",
       "      <td>-0.247965</td>\n",
       "      <td>1.000000</td>\n",
       "    </tr>\n",
       "    <tr>\n",
       "      <th>8</th>\n",
       "      <td>P9</td>\n",
       "      <td>0.134559</td>\n",
       "      <td>0.502118</td>\n",
       "      <td>0.636364</td>\n",
       "    </tr>\n",
       "    <tr>\n",
       "      <th>9</th>\n",
       "      <td>P10</td>\n",
       "      <td>0.192823</td>\n",
       "      <td>0.356538</td>\n",
       "      <td>1.000000</td>\n",
       "    </tr>\n",
       "    <tr>\n",
       "      <th>10</th>\n",
       "      <td>P11</td>\n",
       "      <td>0.136015</td>\n",
       "      <td>0.446204</td>\n",
       "      <td>1.000000</td>\n",
       "    </tr>\n",
       "  </tbody>\n",
       "</table>\n",
       "</div>"
      ],
      "text/plain": [
       "   node        pr        kz       ltc\n",
       "0    P1  0.032296 -0.094082  1.000000\n",
       "1    P2  0.056400 -0.040481  0.636364\n",
       "2    P3  0.069939 -0.241333  1.000000\n",
       "3    P4  0.035715 -0.089954  0.727273\n",
       "4    P5  0.052412 -0.165660  1.000000\n",
       "5    P6  0.128210 -0.439220  1.000000\n",
       "6    P7  0.031967  0.250983  0.727273\n",
       "7    P8  0.129665 -0.247965  1.000000\n",
       "8    P9  0.134559  0.502118  0.636364\n",
       "9   P10  0.192823  0.356538  1.000000\n",
       "10  P11  0.136015  0.446204  1.000000"
      ]
     },
     "execution_count": 11,
     "metadata": {},
     "output_type": "execute_result"
    }
   ],
   "source": [
    "df_centrality = pd.DataFrame(to_dataframe, columns=['node','pr','kz','ltc'])\n",
    "df_centrality"
   ]
  },
  {
   "cell_type": "code",
   "execution_count": 12,
   "metadata": {
    "collapsed": false
   },
   "outputs": [
    {
     "data": {
      "text/html": [
       "<div>\n",
       "<table border=\"1\" class=\"dataframe\">\n",
       "  <thead>\n",
       "    <tr style=\"text-align: right;\">\n",
       "      <th></th>\n",
       "      <th>pr</th>\n",
       "      <th>kz</th>\n",
       "      <th>ltc</th>\n",
       "    </tr>\n",
       "  </thead>\n",
       "  <tbody>\n",
       "    <tr>\n",
       "      <th>pr</th>\n",
       "      <td>1.000000</td>\n",
       "      <td>0.350870</td>\n",
       "      <td>0.309784</td>\n",
       "    </tr>\n",
       "    <tr>\n",
       "      <th>kz</th>\n",
       "      <td>0.350870</td>\n",
       "      <td>1.000000</td>\n",
       "      <td>-0.358373</td>\n",
       "    </tr>\n",
       "    <tr>\n",
       "      <th>ltc</th>\n",
       "      <td>0.309784</td>\n",
       "      <td>-0.358373</td>\n",
       "      <td>1.000000</td>\n",
       "    </tr>\n",
       "  </tbody>\n",
       "</table>\n",
       "</div>"
      ],
      "text/plain": [
       "           pr        kz       ltc\n",
       "pr   1.000000  0.350870  0.309784\n",
       "kz   0.350870  1.000000 -0.358373\n",
       "ltc  0.309784 -0.358373  1.000000"
      ]
     },
     "execution_count": 12,
     "metadata": {},
     "output_type": "execute_result"
    }
   ],
   "source": [
    "df_centrality.corr()"
   ]
  },
  {
   "cell_type": "code",
   "execution_count": 13,
   "metadata": {
    "collapsed": false
   },
   "outputs": [
    {
     "data": {
      "text/html": [
       "<div>\n",
       "<table border=\"1\" class=\"dataframe\">\n",
       "  <thead>\n",
       "    <tr style=\"text-align: right;\">\n",
       "      <th></th>\n",
       "      <th>pr</th>\n",
       "      <th>kz</th>\n",
       "      <th>ltc</th>\n",
       "    </tr>\n",
       "  </thead>\n",
       "  <tbody>\n",
       "    <tr>\n",
       "      <th>pr</th>\n",
       "      <td>1.000000</td>\n",
       "      <td>0.272727</td>\n",
       "      <td>0.243663</td>\n",
       "    </tr>\n",
       "    <tr>\n",
       "      <th>kz</th>\n",
       "      <td>0.272727</td>\n",
       "      <td>1.000000</td>\n",
       "      <td>-0.508513</td>\n",
       "    </tr>\n",
       "    <tr>\n",
       "      <th>ltc</th>\n",
       "      <td>0.243663</td>\n",
       "      <td>-0.508513</td>\n",
       "      <td>1.000000</td>\n",
       "    </tr>\n",
       "  </tbody>\n",
       "</table>\n",
       "</div>"
      ],
      "text/plain": [
       "           pr        kz       ltc\n",
       "pr   1.000000  0.272727  0.243663\n",
       "kz   0.272727  1.000000 -0.508513\n",
       "ltc  0.243663 -0.508513  1.000000"
      ]
     },
     "execution_count": 13,
     "metadata": {},
     "output_type": "execute_result"
    }
   ],
   "source": [
    "df_centrality.corr(method='spearman')"
   ]
  },
  {
   "cell_type": "code",
   "execution_count": 14,
   "metadata": {
    "collapsed": false
   },
   "outputs": [
    {
     "data": {
      "text/html": [
       "<div>\n",
       "<table border=\"1\" class=\"dataframe\">\n",
       "  <thead>\n",
       "    <tr style=\"text-align: right;\">\n",
       "      <th></th>\n",
       "      <th>pr</th>\n",
       "      <th>kz</th>\n",
       "      <th>ltc</th>\n",
       "    </tr>\n",
       "  </thead>\n",
       "  <tbody>\n",
       "    <tr>\n",
       "      <th>pr</th>\n",
       "      <td>1.000000</td>\n",
       "      <td>0.054545</td>\n",
       "      <td>0.190693</td>\n",
       "    </tr>\n",
       "    <tr>\n",
       "      <th>kz</th>\n",
       "      <td>0.054545</td>\n",
       "      <td>1.000000</td>\n",
       "      <td>-0.429058</td>\n",
       "    </tr>\n",
       "    <tr>\n",
       "      <th>ltc</th>\n",
       "      <td>0.190693</td>\n",
       "      <td>-0.429058</td>\n",
       "      <td>1.000000</td>\n",
       "    </tr>\n",
       "  </tbody>\n",
       "</table>\n",
       "</div>"
      ],
      "text/plain": [
       "           pr        kz       ltc\n",
       "pr   1.000000  0.054545  0.190693\n",
       "kz   0.054545  1.000000 -0.429058\n",
       "ltc  0.190693 -0.429058  1.000000"
      ]
     },
     "execution_count": 14,
     "metadata": {},
     "output_type": "execute_result"
    }
   ],
   "source": [
    "df_centrality.corr(method='kendall')"
   ]
  }
 ],
 "metadata": {
  "kernelspec": {
   "display_name": "Python 3",
   "language": "python",
   "name": "python3"
  },
  "language_info": {
   "codemirror_mode": {
    "name": "ipython",
    "version": 3
   },
   "file_extension": ".py",
   "mimetype": "text/x-python",
   "name": "python",
   "nbconvert_exporter": "python",
   "pygments_lexer": "ipython3",
   "version": "3.5.2+"
  }
 },
 "nbformat": 4,
 "nbformat_minor": 1
}
